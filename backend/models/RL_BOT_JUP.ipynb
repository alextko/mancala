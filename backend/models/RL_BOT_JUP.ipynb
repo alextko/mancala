{
 "cells": [
  {
   "cell_type": "code",
   "execution_count": 3,
   "id": "e1e24520",
   "metadata": {},
   "outputs": [],
   "source": [
    "import pickle\n",
    "import time\n",
    "import os\n",
    "\n"
   ]
  },
  {
   "cell_type": "code",
   "execution_count": 2,
   "id": "d856e68c",
   "metadata": {},
   "outputs": [],
   "source": [
    "def save_pickle(file, game):\n",
    "    with open(file, 'wb') as handle:\n",
    "        pickle.dump(game, handle, protocol=pickle.HIGHEST_PROTOCOL)\n",
    "\n",
    "def load_pickle (file):\n",
    "    if os.path.getsize(file) > 0:\n",
    "        with open(file, 'rb') as handle:\n",
    "            print(\"Loading pickle file ...\")\n",
    "            v = pickle.load(handle)\n",
    "    return v\n",
    "\n",
    "        \n",
    "\n",
    "def check_pickle_size(file):\n",
    "    if os.path.getsize(file) > 0:\n",
    "            with open(file, 'rb') as handle:\n",
    "                print(\"Loading pickle file ...\")\n",
    "                moves_dict = pickle.load(handle)\n",
    "    pickle_size = len(moves_dict.keys())\n",
    "    print(\"There are \" + str(pickle_size) + \" states in the dictionary \")\n",
    "    return pickle_size\n",
    "\n",
    "\n",
    "\n",
    "def view_pickle(file, num_view):\n",
    "    f = load_pickle(file)\n",
    "\n",
    "    count = 0\n",
    "    for i in f.keys():\n",
    "        print(\"\\nKEY \" + str(i) + \" \\n VALUE\"  + str(f[i]) + \"\\n\\n\")\n",
    "        count +=1\n",
    "        if count == num_view:\n",
    "            break\n",
    "\n",
    "    \n",
    "\n",
    "\n",
    "def clean_pickle(file):\n",
    "    f = load_pickle(file)\n",
    "    size = len(f.keys())\n",
    "\n",
    "    if len(size > 50000000):\n",
    "        #clean out the 10 million least common states\n",
    "        \n",
    "        for i in f.keys():\n",
    "            None\n",
    "\n",
    "\n",
    "def combine_pickles(f1, f2, f3, f4):\n",
    "    file_1 = load_pickle(f1)\n",
    "    file_2 = load_pickle(f2)\n",
    "    file_3 = load_pickle(f3)\n",
    "    file_4 = load_pickle(f4)\n",
    "\n",
    "    combined_dict = {}\n",
    "    for i in file_1.keys():\n",
    "        combined_dict[i] = file_1[i]\n",
    "    for i in file_2.keys():\n",
    "        combined_dict[i] = file_2[i]\n",
    "    for i in file_3.keys():\n",
    "        combined_dict[i] = file_3[i]\n",
    "    for i in file_4.keys():\n",
    "        combined_dict[i] = file_4[i]\n",
    "\n",
    "    save_pickle(\"trained_pickle.pickle\", combined_dict)\n",
    "\n",
    "def show_me_the_pickle(file, count):\n",
    "    dict = load_pickle(file)\n",
    "    c = 0\n",
    "    for i in dict.keys():\n",
    "        while c <= count:\n",
    "\n",
    "            c+=1\n"
   ]
  },
  {
   "cell_type": "code",
   "execution_count": 3,
   "id": "778058f4",
   "metadata": {},
   "outputs": [
    {
     "data": {
      "text/plain": [
       "5"
      ]
     },
     "execution_count": 3,
     "metadata": {},
     "output_type": "execute_result"
    }
   ],
   "source": [
    "5"
   ]
  },
  {
   "cell_type": "code",
   "execution_count": 4,
   "id": "f8feb6bd",
   "metadata": {},
   "outputs": [
    {
     "name": "stdout",
     "output_type": "stream",
     "text": [
      "Loading pickle file ...\n"
     ]
    }
   ],
   "source": [
    "d1 = load_pickle(\"./transformed.pickle\");"
   ]
  },
  {
   "cell_type": "code",
   "execution_count": 5,
   "id": "4e210d59",
   "metadata": {},
   "outputs": [],
   "source": [
    "new_dict = {}"
   ]
  },
  {
   "cell_type": "code",
   "execution_count": 7,
   "id": "524ab108",
   "metadata": {},
   "outputs": [
    {
     "data": {
      "text/plain": [
       "5"
      ]
     },
     "execution_count": 7,
     "metadata": {},
     "output_type": "execute_result"
    }
   ],
   "source": [
    "5"
   ]
  },
  {
   "cell_type": "code",
   "execution_count": 10,
   "id": "456dcef3",
   "metadata": {},
   "outputs": [],
   "source": [
    "import gc"
   ]
  },
  {
   "cell_type": "code",
   "execution_count": 11,
   "id": "e003936e",
   "metadata": {},
   "outputs": [
    {
     "ename": "KeyboardInterrupt",
     "evalue": "",
     "output_type": "error",
     "traceback": [
      "\u001b[0;31m---------------------------------------------------------------------------\u001b[0m",
      "\u001b[0;31mKeyboardInterrupt\u001b[0m                         Traceback (most recent call last)",
      "Cell \u001b[0;32mIn [11], line 1\u001b[0m\n\u001b[0;32m----> 1\u001b[0m \u001b[43mgc\u001b[49m\u001b[38;5;241;43m.\u001b[39;49m\u001b[43mcollect\u001b[49m\u001b[43m(\u001b[49m\u001b[43m)\u001b[49m\n",
      "\u001b[0;31mKeyboardInterrupt\u001b[0m: "
     ]
    }
   ],
   "source": [
    "gc.collect()"
   ]
  },
  {
   "cell_type": "code",
   "execution_count": 16,
   "id": "93f214c0",
   "metadata": {},
   "outputs": [],
   "source": [
    "pickle.dump(new_dict, open('nd1.pickle', 'wb'))"
   ]
  },
  {
   "cell_type": "code",
   "execution_count": null,
   "id": "515b4fca",
   "metadata": {},
   "outputs": [],
   "source": []
  },
  {
   "cell_type": "code",
   "execution_count": 8,
   "id": "177d4ff1",
   "metadata": {},
   "outputs": [],
   "source": [
    "from tqdm import tqdm"
   ]
  },
  {
   "cell_type": "code",
   "execution_count": 15,
   "id": "0bc89807",
   "metadata": {},
   "outputs": [
    {
     "name": "stderr",
     "output_type": "stream",
     "text": [
      "100%|██████████████████████████████████████████████████████████████████████████████| 50348149/50348149 [17:33<00:00, 47769.87it/s]\n"
     ]
    }
   ],
   "source": [
    "for i in tqdm(d1.keys()):\n",
    "    # First turn the dictionary key into a list so it can be rearranged \n",
    "    stl = i.replace('[','').replace(']', '').replace(',', '').replace(' ','')\n",
    "    lbuild = []\n",
    "    lbuild_small = []\n",
    "    count = 0\n",
    "    for char in stl:\n",
    "        lbuild_small.append(int(char))\n",
    "        count+=1\n",
    "        if count %6 ==0:\n",
    "            lbuild.append(lbuild_small)\n",
    "            lbuild_small = []\n",
    "\n",
    "    new_str = str([list(reversed(lbuild[0])), list(reversed(lbuild[1]))])\n",
    "    if new_str not in new_dict:\n",
    "        new_reward = list(reversed(d1[i][\"reward\"]))\n",
    "        new_dict[new_str] = {\"reward\": new_reward, \"frequency\": 2}\n",
    "    "
   ]
  },
  {
   "cell_type": "code",
   "execution_count": 4,
   "id": "400c3ec1",
   "metadata": {},
   "outputs": [],
   "source": [
    "nd1 = pickle.load(open('./nd1.pickle', 'rb'))"
   ]
  },
  {
   "cell_type": "code",
   "execution_count": 6,
   "id": "0af3d581",
   "metadata": {},
   "outputs": [],
   "source": [
    "import os\n",
    "os.chdir(\"../\")"
   ]
  },
  {
   "cell_type": "code",
   "execution_count": 7,
   "id": "6749c409",
   "metadata": {},
   "outputs": [
    {
     "data": {
      "text/plain": [
       "<module 'mancala' from '/Users/alexreinhart/mancala/backend/mancala.py'>"
      ]
     },
     "execution_count": 7,
     "metadata": {},
     "output_type": "execute_result"
    }
   ],
   "source": [
    "# from mancala import Mancala_game\n",
    "# from mancala_tournament import Tournament\n",
    "# from player import Player\n",
    "import pickle\n",
    "import os\n",
    "import importlib\n",
    "import player\n",
    "import mancala_tournament\n",
    "import mancala\n"
   ]
  },
  {
   "cell_type": "code",
   "execution_count": 25,
   "id": "290dbe4e",
   "metadata": {},
   "outputs": [
    {
     "data": {
      "text/plain": [
       "<module 'mancala' from '/Users/alexreinhart/mancala/backend/mancala.py'>"
      ]
     },
     "execution_count": 25,
     "metadata": {},
     "output_type": "execute_result"
    }
   ],
   "source": [
    "\n",
    "importlib.reload(player)\n",
    "importlib.reload(mancala_tournament)\n",
    "importlib.reload(mancala)\n",
    "\n"
   ]
  },
  {
   "cell_type": "code",
   "execution_count": 26,
   "id": "b8805bae",
   "metadata": {},
   "outputs": [
    {
     "name": "stdout",
     "output_type": "stream",
     "text": [
      " \n",
      " Hello Welcome to Mancala :) \n",
      " \n"
     ]
    }
   ],
   "source": [
    "print(\" \\n Hello Welcome to Mancala :) \\n \")\n",
    "\n",
    "player1 = player.Player(\"RL\", \"RL Bot\", tournament=True, player_side='top',moves_dict = nd1,  training_mode=False)\n",
    "player2 = player.Player(\"Random\", \"S Bot\", tournament=True, player_side='botito')"
   ]
  },
  {
   "cell_type": "code",
   "execution_count": 27,
   "id": "38d693f4",
   "metadata": {},
   "outputs": [],
   "source": [
    "tournament = mancala_tournament.Tournament(player1, player2,num_games=1000, pre_loaded_pick = nd1) "
   ]
  },
  {
   "cell_type": "code",
   "execution_count": 28,
   "id": "6491dfe2",
   "metadata": {},
   "outputs": [
    {
     "name": "stdout",
     "output_type": "stream",
     "text": [
      "win count player 1: 1000\n",
      "win count player 2: 0\n",
      "\n",
      " !!!!!!!!!! \n",
      "RL Bot is the winner with with ratio 1.0\n",
      " !!!!!!!!!! \n",
      "\n"
     ]
    }
   ],
   "source": [
    "#play a manacala tournament\n",
    "\n",
    "tournament.play_tournament()\n",
    "# print(player1.move_count)\n",
    "# print(player1.move_count)"
   ]
  },
  {
   "cell_type": "code",
   "execution_count": null,
   "id": "a2c4f7f7",
   "metadata": {},
   "outputs": [],
   "source": [
    "print(\"win count player 1: \" + str(tournament.player1_win_count))\n",
    "print(\"win count player 2: \" + str(tournament.player2_win_count))\n",
    "\n",
    "print(\"\\n !!!!!!!!!! \")\n",
    "print(tournament.tournament_winner.player_name + \" is the winner with with ratio \" + str(tournament.winner_ratio))\n",
    "print(\" !!!!!!!!!! \\n\")"
   ]
  },
  {
   "cell_type": "code",
   "execution_count": 287,
   "id": "52755062",
   "metadata": {},
   "outputs": [
    {
     "data": {
      "text/plain": [
       "False"
      ]
     },
     "execution_count": 287,
     "metadata": {},
     "output_type": "execute_result"
    }
   ],
   "source": [
    "tournament.num_games\n",
    "player1.training_mode"
   ]
  },
  {
   "cell_type": "code",
   "execution_count": 155,
   "id": "39959413",
   "metadata": {},
   "outputs": [],
   "source": []
  },
  {
   "cell_type": "code",
   "execution_count": 292,
   "id": "ffb7a7fe",
   "metadata": {},
   "outputs": [
    {
     "ename": "NameError",
     "evalue": "name 'board' is not defined",
     "output_type": "error",
     "traceback": [
      "\u001b[0;31m---------------------------------------------------------------------------\u001b[0m",
      "\u001b[0;31mNameError\u001b[0m                                 Traceback (most recent call last)",
      "Cell \u001b[0;32mIn [292], line 1\u001b[0m\n\u001b[0;32m----> 1\u001b[0m \u001b[43mboard\u001b[49m\n",
      "\u001b[0;31mNameError\u001b[0m: name 'board' is not defined"
     ]
    }
   ],
   "source": []
  },
  {
   "cell_type": "code",
   "execution_count": null,
   "id": "6832ebcc",
   "metadata": {},
   "outputs": [],
   "source": []
  }
 ],
 "metadata": {
  "kernelspec": {
   "display_name": "Python 3 (ipykernel)",
   "language": "python",
   "name": "python3"
  },
  "language_info": {
   "codemirror_mode": {
    "name": "ipython",
    "version": 3
   },
   "file_extension": ".py",
   "mimetype": "text/x-python",
   "name": "python",
   "nbconvert_exporter": "python",
   "pygments_lexer": "ipython3",
   "version": "3.9.6"
  }
 },
 "nbformat": 4,
 "nbformat_minor": 5
}
